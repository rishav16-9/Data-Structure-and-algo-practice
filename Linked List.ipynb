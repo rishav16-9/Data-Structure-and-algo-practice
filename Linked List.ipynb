{
 "cells": [
  {
   "cell_type": "markdown",
   "id": "3140cedb",
   "metadata": {},
   "source": [
    "# Linked List"
   ]
  },
  {
   "cell_type": "markdown",
   "id": "f2b950a8",
   "metadata": {},
   "source": [
    "1) It is ordered\n",
    "\n",
    "2) here idea is to drop the contiguous memory requirement so that insert/delete can happen faster\n",
    "\n",
    "Advantage of LL over array\n",
    "\n",
    "1) Insertion and Deletion is fast\n",
    "\n",
    "Disadvantage of LL over array\n",
    "\n",
    "1) Array are cache friendly and have random access and LL are oppsite"
   ]
  },
  {
   "cell_type": "markdown",
   "id": "94a59904",
   "metadata": {},
   "source": [
    "# Simple LL implementation"
   ]
  },
  {
   "cell_type": "code",
   "execution_count": 24,
   "id": "b7da17ca",
   "metadata": {},
   "outputs": [],
   "source": [
    "class Node:\n",
    "    def __init__(self, key):\n",
    "        self.k = key\n",
    "        self.next = None\n",
    "\n",
    "'''temp1 = Node(10)\n",
    "temp2 = Node(20)\n",
    "temp3 = Node(30)\n",
    "temp1.next = temp2\n",
    "temp2.next = temp3\n",
    "head = temp1''' \n",
    "\n",
    "# Alternative way\n",
    "\n",
    "head = Node(10)\n",
    "head.next = Node(20)\n",
    "head.next.next = Node(30)"
   ]
  },
  {
   "cell_type": "markdown",
   "id": "45590777",
   "metadata": {},
   "source": [
    "# Traversing Linked List and printing value"
   ]
  },
  {
   "cell_type": "raw",
   "id": "ca14299c",
   "metadata": {},
   "source": [
    "Input: 10 -> 20 -> 30 -> 40 -> None\n",
    "Output: 10 20 30 40\n",
    "    \n",
    "Input: 10 -> 5\n",
    "Output: 10 5\n",
    "    \n",
    "Input: None\n",
    "Output:"
   ]
  },
  {
   "cell_type": "code",
   "execution_count": 30,
   "id": "b7bf2502",
   "metadata": {},
   "outputs": [
    {
     "name": "stdout",
     "output_type": "stream",
     "text": [
      "None "
     ]
    }
   ],
   "source": [
    "class Node:\n",
    "    def __init__(self, key):\n",
    "        self.key = key\n",
    "        self.next = None\n",
    "def printList(head):\n",
    "    curr = head\n",
    "    while(curr != None):\n",
    "        print(curr.key, end = \" \")\n",
    "        curr = curr.next\n",
    "    return curr\n",
    "head = Node(10)\n",
    "head.next = Node(20)\n",
    "head.next.next = Node(30)\n",
    "head.next.next.next = Node(40)\n",
    "# print(printList(head))\n",
    "printList(head)"
   ]
  },
  {
   "cell_type": "raw",
   "id": "03dfc3d9",
   "metadata": {},
   "source": [
    "Time complexity: θ(n)  It needs to taverse whole list\n",
    "\n",
    "Aux space: O(1) as no extra list is needed"
   ]
  },
  {
   "cell_type": "markdown",
   "id": "1e4f94d1",
   "metadata": {},
   "source": [
    "# search in Linked List"
   ]
  },
  {
   "cell_type": "code",
   "execution_count": 37,
   "id": "64b77d57",
   "metadata": {},
   "outputs": [
    {
     "data": {
      "text/plain": [
       "3"
      ]
     },
     "execution_count": 37,
     "metadata": {},
     "output_type": "execute_result"
    }
   ],
   "source": [
    "class Node:\n",
    "    def __init__(self, key):\n",
    "        self.key = key\n",
    "        self.next = None\n",
    "\n",
    "def search(head, x):\n",
    "    curr = head\n",
    "    pos = 1\n",
    "    while curr != None:\n",
    "        if (curr.key == x):\n",
    "            return pos\n",
    "        curr = curr.next\n",
    "        pos += 1\n",
    "    return -1\n",
    "\n",
    "head = Node(10)\n",
    "head.next = Node(20)\n",
    "head.next.next = Node(30)\n",
    "head.next.next.next = Node(40)\n",
    "\n",
    "search(head, 30)"
   ]
  },
  {
   "cell_type": "raw",
   "id": "c3d2fd79",
   "metadata": {},
   "source": [
    "Time Complexity: O(n)\n",
    "\n",
    "Aux space: O(1)"
   ]
  },
  {
   "cell_type": "markdown",
   "id": "eb01e8cc",
   "metadata": {},
   "source": [
    "# Insert at beginning"
   ]
  },
  {
   "cell_type": "raw",
   "id": "c6e457e2",
   "metadata": {},
   "source": [
    "Input: 10 -> 20 -> 30 -> None\n",
    "        Key = 5\n",
    "Output: 5 -> 10 -> 20 -> 30 -> None\n",
    "\n",
    "Input: 10 -> None\n",
    "        key = 5\n",
    "Output: 5 -> 10\n",
    "\n",
    "Input: None\n",
    "        Key = 10\n",
    "Output:10"
   ]
  },
  {
   "cell_type": "code",
   "execution_count": 47,
   "id": "049be7ec",
   "metadata": {},
   "outputs": [
    {
     "name": "stdout",
     "output_type": "stream",
     "text": [
      "30 20 15 10 "
     ]
    }
   ],
   "source": [
    "class Node:\n",
    "    def __init__(self, key):\n",
    "        self.key = key\n",
    "        self.next = None\n",
    "\n",
    "def insertAtBeg(head, key):\n",
    "    temp = Node(key)\n",
    "    temp.next = head\n",
    "    return temp\n",
    "\n",
    "# To display\n",
    "def printList(head):\n",
    "    curr = head\n",
    "    while(curr != None):\n",
    "        print(curr.key, end = \" \")\n",
    "        curr = curr.next\n",
    "    return curr\n",
    "\n",
    "# head = Node(10)\n",
    "# head.next = Node(20)\n",
    "# head.next.next = Node(30)\n",
    "# head.next.next.next = Node(40)\n",
    "\n",
    "head = None\n",
    "head = insertAtBeg(head, 10)\n",
    "head = insertAtBeg(head, 15)\n",
    "head = insertAtBeg(head, 20)\n",
    "head = insertAtBeg(head, 30)\n",
    "\n",
    "printList(head)\n",
    "\n",
    "# print(head)\n",
    "\n",
    "\n"
   ]
  },
  {
   "cell_type": "code",
   "execution_count": null,
   "id": "af644f3d",
   "metadata": {},
   "outputs": [],
   "source": [
    "Time Complexity: O(1)\n",
    "\n",
    "Aux space : O(1)"
   ]
  },
  {
   "cell_type": "markdown",
   "id": "b27a1a32",
   "metadata": {},
   "source": [
    "# Insert at End"
   ]
  },
  {
   "cell_type": "code",
   "execution_count": 53,
   "id": "48e184b3",
   "metadata": {},
   "outputs": [
    {
     "name": "stdout",
     "output_type": "stream",
     "text": [
      "10 20 30 "
     ]
    }
   ],
   "source": [
    "class Node:\n",
    "    def __init__(self, key):\n",
    "        self.key = key\n",
    "        self.next = None\n",
    "\n",
    "def insertAtEnd(head, key):\n",
    "    if(head == None):\n",
    "        return (Node(key))   \n",
    "    curr = head\n",
    "    while (curr.next != None):\n",
    "        curr = curr.next\n",
    "    \n",
    "    curr.next = Node(key)\n",
    "    return head\n",
    "    \n",
    "def printList(head):\n",
    "    curr = head\n",
    "    while(curr != None):\n",
    "        print(curr.key, end = \" \")\n",
    "        curr = curr.next\n",
    "    return curr\n",
    "\n",
    "head = None\n",
    "head = insertAtEnd(head, 10)\n",
    "head = insertAtEnd(head, 20)\n",
    "head = insertAtEnd(head, 30)\n",
    "printList(head)"
   ]
  },
  {
   "cell_type": "code",
   "execution_count": null,
   "id": "70ab5421",
   "metadata": {},
   "outputs": [],
   "source": [
    "TIme complexit"
   ]
  }
 ],
 "metadata": {
  "kernelspec": {
   "display_name": "Python 3 (ipykernel)",
   "language": "python",
   "name": "python3"
  },
  "language_info": {
   "codemirror_mode": {
    "name": "ipython",
    "version": 3
   },
   "file_extension": ".py",
   "mimetype": "text/x-python",
   "name": "python",
   "nbconvert_exporter": "python",
   "pygments_lexer": "ipython3",
   "version": "3.9.7"
  }
 },
 "nbformat": 4,
 "nbformat_minor": 5
}
