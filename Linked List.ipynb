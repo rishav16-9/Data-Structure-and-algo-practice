{
 "cells": [
  {
   "cell_type": "markdown",
   "id": "d11f5605",
   "metadata": {},
   "source": [
    "# Linked List"
   ]
  },
  {
   "cell_type": "markdown",
   "id": "2513c81d",
   "metadata": {},
   "source": [
    "1) It is ordered\n",
    "\n",
    "2) here idea is to drop the contiguous memory requirement so that insert/delete can happen faster\n",
    "\n",
    "Advantage of LL over array\n",
    "\n",
    "1) Insertion and Deletion is fast\n",
    "\n",
    "Disadvantage of LL over array\n",
    "\n",
    "1) Array are cache friendly and have random access and LL are oppsite"
   ]
  },
  {
   "cell_type": "markdown",
   "id": "6968be62",
   "metadata": {},
   "source": [
    "# Simple LL implementation"
   ]
  },
  {
   "cell_type": "code",
   "execution_count": 24,
   "id": "adca5a2e",
   "metadata": {},
   "outputs": [],
   "source": [
    "class Node:\n",
    "    def __init__(self, key):\n",
    "        self.k = key\n",
    "        self.next = None\n",
    "\n",
    "'''temp1 = Node(10)\n",
    "temp2 = Node(20)\n",
    "temp3 = Node(30)\n",
    "temp1.next = temp2\n",
    "temp2.next = temp3\n",
    "head = temp1''' \n",
    "\n",
    "# Alternative way\n",
    "\n",
    "head = Node(10)\n",
    "head.next = Node(20)\n",
    "head.next.next = Node(30)"
   ]
  },
  {
   "cell_type": "markdown",
   "id": "8f43ff3c",
   "metadata": {},
   "source": [
    "# Traversing Linked List and printing value"
   ]
  },
  {
   "cell_type": "raw",
   "id": "b042b314",
   "metadata": {},
   "source": [
    "Input: 10 -> 20 -> 30 -> 40 -> None\n",
    "Output: 10 20 30 40\n",
    "    \n",
    "Input: 10 -> 5\n",
    "Output: 10 5\n",
    "    \n",
    "Input: None\n",
    "Output:"
   ]
  },
  {
   "cell_type": "code",
   "execution_count": 30,
   "id": "e3675965",
   "metadata": {},
   "outputs": [
    {
     "name": "stdout",
     "output_type": "stream",
     "text": [
      "None "
     ]
    }
   ],
   "source": [
    "class Node:\n",
    "    def __init__(self, key):\n",
    "        self.key = key\n",
    "        self.next = None\n",
    "def printList(head):\n",
    "    curr = head\n",
    "    while(curr != None):\n",
    "        print(curr.key, end = \" \")\n",
    "        curr = curr.next\n",
    "    return curr\n",
    "head = Node(10)\n",
    "head.next = Node(20)\n",
    "head.next.next = Node(30)\n",
    "head.next.next.next = Node(40)\n",
    "# print(printList(head))\n",
    "printList(head)"
   ]
  },
  {
   "cell_type": "raw",
   "id": "583e5861",
   "metadata": {},
   "source": [
    "Time complexity: θ(n)  It needs to taverse whole list\n",
    "\n",
    "Aux space: O(1) as no extra list is needed"
   ]
  },
  {
   "cell_type": "markdown",
   "id": "1025b686",
   "metadata": {},
   "source": [
    "# search in Linked List"
   ]
  },
  {
   "cell_type": "code",
   "execution_count": 37,
   "id": "3430ee4c",
   "metadata": {},
   "outputs": [
    {
     "data": {
      "text/plain": [
       "3"
      ]
     },
     "execution_count": 37,
     "metadata": {},
     "output_type": "execute_result"
    }
   ],
   "source": [
    "class Node:\n",
    "    def __init__(self, key):\n",
    "        self.key = key\n",
    "        self.next = None\n",
    "\n",
    "def search(head, x):\n",
    "    curr = head\n",
    "    pos = 1\n",
    "    while curr != None:\n",
    "        if (curr.key == x):\n",
    "            return pos\n",
    "        curr = curr.next\n",
    "        pos += 1\n",
    "    return -1\n",
    "\n",
    "head = Node(10)\n",
    "head.next = Node(20)\n",
    "head.next.next = Node(30)\n",
    "head.next.next.next = Node(40)\n",
    "\n",
    "search(head, 30)"
   ]
  },
  {
   "cell_type": "raw",
   "id": "4c1fb99d",
   "metadata": {},
   "source": [
    "Time Complexity: O(n)\n",
    "\n",
    "Aux space: O(1)"
   ]
  },
  {
   "cell_type": "markdown",
   "id": "4616a705",
   "metadata": {},
   "source": [
    "# Insert at beginning"
   ]
  },
  {
   "cell_type": "raw",
   "id": "601f884c",
   "metadata": {},
   "source": [
    "Input: 10 -> 20 -> 30 -> None\n",
    "        Key = 5\n",
    "Output: 5 -> 10 -> 20 -> 30 -> None\n",
    "\n",
    "Input: 10 -> None\n",
    "        key = 5\n",
    "Output: 5 -> 10\n",
    "\n",
    "Input: None\n",
    "        Key = 10\n",
    "Output:10"
   ]
  },
  {
   "cell_type": "code",
   "execution_count": 47,
   "id": "54542f99",
   "metadata": {},
   "outputs": [
    {
     "name": "stdout",
     "output_type": "stream",
     "text": [
      "30 20 15 10 "
     ]
    }
   ],
   "source": [
    "class Node:\n",
    "    def __init__(self, key):\n",
    "        self.key = key\n",
    "        self.next = None\n",
    "\n",
    "def insertAtBeg(head, key):\n",
    "    temp = Node(key)\n",
    "    temp.next = head\n",
    "    return temp\n",
    "\n",
    "# To display\n",
    "def printList(head):\n",
    "    curr = head\n",
    "    while(curr != None):\n",
    "        print(curr.key, end = \" \")\n",
    "        curr = curr.next\n",
    "    return curr\n",
    "\n",
    "# head = Node(10)\n",
    "# head.next = Node(20)\n",
    "# head.next.next = Node(30)\n",
    "# head.next.next.next = Node(40)\n",
    "\n",
    "head = None\n",
    "head = insertAtBeg(head, 10)\n",
    "head = insertAtBeg(head, 15)\n",
    "head = insertAtBeg(head, 20)\n",
    "head = insertAtBeg(head, 30)\n",
    "\n",
    "printList(head)\n",
    "\n",
    "# print(head)\n",
    "\n",
    "\n"
   ]
  },
  {
   "cell_type": "code",
   "execution_count": null,
   "id": "54a538c0",
   "metadata": {},
   "outputs": [],
   "source": [
    "Time Complexity: O(1)\n",
    "\n",
    "Aux space : O(1)"
   ]
  },
  {
   "cell_type": "markdown",
   "id": "95e85458",
   "metadata": {},
   "source": [
    "# Insert at End"
   ]
  },
  {
   "cell_type": "code",
   "execution_count": 53,
   "id": "055aca4a",
   "metadata": {},
   "outputs": [
    {
     "name": "stdout",
     "output_type": "stream",
     "text": [
      "10 20 30 "
     ]
    }
   ],
   "source": [
    "class Node:\n",
    "    def __init__(self, key):\n",
    "        self.key = key\n",
    "        self.next = None\n",
    "\n",
    "def insertAtEnd(head, key):\n",
    "    if(head == None):\n",
    "        return (Node(key))   \n",
    "    curr = head\n",
    "    while (curr.next != None):\n",
    "        curr = curr.next\n",
    "    \n",
    "    curr.next = Node(key)\n",
    "    return head\n",
    "    \n",
    "def printList(head):\n",
    "    curr = head\n",
    "    while(curr != None):\n",
    "        print(curr.key, end = \" \")\n",
    "        curr = curr.next\n",
    "    return curr\n",
    "\n",
    "head = None\n",
    "head = insertAtEnd(head, 10)\n",
    "head = insertAtEnd(head, 20)\n",
    "head = insertAtEnd(head, 30)\n",
    "printList(head)"
   ]
  },
  {
   "cell_type": "raw",
   "id": "e35115f1",
   "metadata": {},
   "source": [
    "TIme complexity: θ(n)\n",
    "\n",
    "Aux space: O(n)"
   ]
  },
  {
   "cell_type": "markdown",
   "id": "b4b6743a",
   "metadata": {},
   "source": [
    "# Count the nodes in LL"
   ]
  },
  {
   "cell_type": "raw",
   "id": "6645a9ed",
   "metadata": {},
   "source": [
    "Given a singly linked list. The task is to find the length of the linked list, where length is defined as the number of nodes in the linked list.\n",
    "\n",
    "Example 1:\n",
    "\n",
    "Input:\n",
    "LinkedList: 1->2->3->4->5\n",
    "Output: 5\n",
    "Explanation: Count of nodes in the \n",
    "linked list is 5, which is its length.\n",
    "Example 2:\n",
    "\n",
    "Input:\n",
    "LinkedList: 2->4->6->7->5->1->0\n",
    "Output: 7\n",
    "Explanation: Count of nodes in the\n",
    "linked list is 7. Hence, the output\n",
    "is 7.\n",
    "Your Task:\n",
    "Your task is to complete the given function getCount(), which takes a head reference as an argument and should return the length of the linked list.\n",
    "\n",
    "Expected Time Complexity : O(N)\n",
    "Expected Auxilliary Space : O(1)\n",
    "\n"
   ]
  },
  {
   "cell_type": "code",
   "execution_count": 3,
   "id": "6ca2730f",
   "metadata": {},
   "outputs": [
    {
     "name": "stdout",
     "output_type": "stream",
     "text": [
      "1\n",
      "5\n",
      "1 2 3 4 5\n",
      "5\n"
     ]
    }
   ],
   "source": [
    "#User function Template for python3\n",
    "\n",
    "'''\n",
    "\n",
    "#Linked list class\n",
    "class LinkedList:\n",
    "    def __init__(self):\n",
    "        self.head=None\n",
    "        self.tail=None\n",
    "        '''\n",
    "class Solution:\n",
    "    \n",
    "    #Function to count nodes of a linked list.\n",
    "    def getCount(self, head_node):\n",
    "        #code here\n",
    "        curr = head_node\n",
    "        count = 0\n",
    "        while curr != None:\n",
    "            count += 1\n",
    "            curr = curr.next\n",
    "        return count\n",
    "            \n",
    "#{ \n",
    "#  Driver Code Starts\n",
    "#Initial Template for Python 3\n",
    "\n",
    "import io\n",
    "import sys\n",
    "\n",
    "    \n",
    "# Node class\n",
    "class Node:\n",
    "    def __init__(self,data):\n",
    "        self.data=data\n",
    "        self.next=None\n",
    "#Linked list class\n",
    "\n",
    "class LinkedList:\n",
    "    def __init__(self):\n",
    "        self.head=None\n",
    "        self.tail=None\n",
    "\n",
    "    # append at the end of the list\n",
    "    def append(self,new_node):\n",
    "        if self.head is None:\n",
    "            self.head=new_node\n",
    "            self.tail=new_node\n",
    "            return\n",
    "        self.tail.next=new_node\n",
    "        self.tail = self.tail.next\n",
    "\n",
    "if __name__ == '__main__':\n",
    "    t=int(input())\n",
    "    for cases in range(t):\n",
    "        n=int(input())\n",
    "        a=LinkedList()\n",
    "        nodes=list(map(int,input().strip().split())) #list containing nodes\n",
    "        for x in nodes:\n",
    "            node=Node(x) # create a new node\n",
    "            a.append(node)\n",
    "        print(Solution().getCount(a.head))\n",
    "# } Driver Code Ends"
   ]
  },
  {
   "cell_type": "markdown",
   "id": "337cedd4",
   "metadata": {},
   "source": [
    "# Insert at given position"
   ]
  },
  {
   "cell_type": "raw",
   "id": "4cb39129",
   "metadata": {},
   "source": [
    "I/P:10 -> 30 -> 50->70\n",
    "    pos: 2 data = 20\n",
    "O/P: 10->20->30->50->70\n",
    "    \n",
    "I/P: 10 -> 20\n",
    "    pos: 4 data = 5       \n",
    "O/P: None\n",
    "\n",
    "I/P: 5->15->25->35\n",
    "    pos: 5 data = 10\n",
    "O/P: 5->15->25->35->10\n",
    "    "
   ]
  },
  {
   "cell_type": "code",
   "execution_count": 8,
   "id": "49754a12",
   "metadata": {},
   "outputs": [
    {
     "name": "stdout",
     "output_type": "stream",
     "text": [
      "10 20 30 \n",
      "10 20 40 30 "
     ]
    }
   ],
   "source": [
    "class Node:\n",
    "    def __init__(self, data):\n",
    "        self.data = data\n",
    "        self.next = None\n",
    "\n",
    "\n",
    "def insertAtPos(head, data, pos):\n",
    "    temp = Node(data)\n",
    "    if pos == 1:\n",
    "        temp.next = head\n",
    "        return temp\n",
    "    \n",
    "    curr = head\n",
    "    for i in range(pos - 2):\n",
    "        curr = curr.next\n",
    "        if(curr == None):\n",
    "            return head\n",
    "    temp.next = curr.next\n",
    "    curr.next = temp\n",
    "    return head\n",
    "  \n",
    "def printList(head):\n",
    "    curr = head\n",
    "    while(curr != None):\n",
    "        print(curr.data, end = \" \")\n",
    "        curr = curr.next\n",
    "    return curr\n",
    "head = Node(10)\n",
    "head.next = Node(20)\n",
    "head.next.next = Node(30)\n",
    "printList(head)\n",
    "print()\n",
    "# data = int(input('data'))\n",
    "# pos = int(input('pos'))\n",
    "insertAtPos(head, 40, 3)\n",
    "printList(head)\n"
   ]
  },
  {
   "cell_type": "markdown",
   "id": "6550d77d",
   "metadata": {},
   "source": [
    "Time Complexity: θ(min(pos, n))"
   ]
  },
  {
   "cell_type": "markdown",
   "id": "9514ac01",
   "metadata": {},
   "source": [
    "# User Input LL"
   ]
  },
  {
   "cell_type": "code",
   "execution_count": 24,
   "id": "25672af8",
   "metadata": {},
   "outputs": [
    {
     "name": "stdout",
     "output_type": "stream",
     "text": [
      "How many element you want to insert5\n",
      "Enter element1\n",
      "Enter element2\n",
      "Enter element3\n",
      "Enter element4\n",
      "Enter element5\n",
      "Linked list is:  1 2 3 4 5 enetr element to be inserted: 0\n",
      "1 2 3 4 5 "
     ]
    }
   ],
   "source": [
    "class Node:\n",
    "    def __init__(self, data):\n",
    "        self.data = data\n",
    "        self.next = None\n",
    "\n",
    "class linkedlist:\n",
    "    def __init__(self):\n",
    "        self.head = None\n",
    "        self.last_node = None\n",
    "    \n",
    "    def append(self, data):\n",
    "        if(self.last_node is None):\n",
    "            self.head = Node(data)\n",
    "            self.last_node = self.head\n",
    "        else:\n",
    "            self.last_node.next = Node(data)\n",
    "            self.last_node = self.last_node.next\n",
    "            \n",
    "    def display(self, head):\n",
    "        curr = self.head\n",
    "        while(curr != None):\n",
    "            print(curr.data, end = \" \")\n",
    "            curr = curr.next\n",
    "\n",
    "obj = linkedlist()\n",
    "n = int(input('How many element you want to insert'))\n",
    "for i in range(n):\n",
    "    data = int(input(\"Enter element\"))\n",
    "    obj.append(data)\n",
    "print(\"Linked list is: \", end = ' ')\n",
    "obj.display(data)\n"
   ]
  },
  {
   "cell_type": "markdown",
   "id": "3250abae",
   "metadata": {},
   "source": [
    "# Delete first node"
   ]
  },
  {
   "cell_type": "markdown",
   "id": "7a3a0d03",
   "metadata": {},
   "source": [
    "I/P: 10 -> 20 -> 30 -> 40\n",
    "\n",
    "O/P: 20 -> 30 -> 40\n",
    "\n",
    "I/P: 10\n",
    "\n",
    "O/P: None\n",
    "\n",
    "I/P: None\n",
    "\n",
    "O/P: None"
   ]
  },
  {
   "cell_type": "code",
   "execution_count": 13,
   "id": "af4c5ea9",
   "metadata": {},
   "outputs": [
    {
     "name": "stdout",
     "output_type": "stream",
     "text": [
      "10 20 30 40 \n",
      "20 30 40 "
     ]
    }
   ],
   "source": [
    "class Node:\n",
    "    def __init__(self,data):\n",
    "        self.data = data\n",
    "        self.next = None\n",
    "\n",
    "def delFirstNode(head):\n",
    "    if(head == None):\n",
    "        return None\n",
    "    else:\n",
    "        return head.next\n",
    "\n",
    "def printList(head):\n",
    "    curr = head\n",
    "    while(curr != None):\n",
    "        print(curr.data, end = ' ')\n",
    "        curr = curr.next\n",
    "    return curr\n",
    "head = Node(10)\n",
    "head.next = Node(20)\n",
    "head.next.next = Node(30)\n",
    "head.next.next.next = Node(40)\n",
    "printList(head)\n",
    "head = delFirstNode(head)\n",
    "print()\n",
    "printList(head)"
   ]
  },
  {
   "cell_type": "markdown",
   "id": "91e44d45",
   "metadata": {},
   "source": [
    "Time Complexity: O(1)\n",
    "\n",
    "Space Complexity: O(1)"
   ]
  },
  {
   "cell_type": "markdown",
   "id": "46c7d3c1",
   "metadata": {},
   "source": [
    "# Delete Last Node"
   ]
  },
  {
   "cell_type": "raw",
   "id": "b3b281c2",
   "metadata": {},
   "source": [
    "I/P: 10 -> 20 -> 30 -> 40\n",
    "\n",
    "O/P: 20 -> 30 -> 40\n",
    "\n",
    "I/P: 10\n",
    "\n",
    "O/P: None\n",
    "\n",
    "I/P: None\n",
    "\n",
    "O/P: None"
   ]
  },
  {
   "cell_type": "code",
   "execution_count": 15,
   "id": "f04926ef",
   "metadata": {},
   "outputs": [
    {
     "name": "stdout",
     "output_type": "stream",
     "text": [
      "10 20 30 40 \n",
      "10 20 30 "
     ]
    }
   ],
   "source": [
    "class Node:\n",
    "    def __init__(self,data):\n",
    "        self.data = data\n",
    "        self.next = None\n",
    "\n",
    "def delLast(head):\n",
    "    if(head == None):\n",
    "        return None\n",
    "    \n",
    "    if(head.next == None):\n",
    "        return None\n",
    "    \n",
    "    curr = head\n",
    "    while(curr.next.next != None):\n",
    "        curr = curr.next\n",
    "    \n",
    "    curr.next = None\n",
    "    return head\n",
    "\n",
    "\n",
    "        \n",
    "def printList(head):\n",
    "    curr = head\n",
    "    while(curr != None):\n",
    "        print(curr.data, end = ' ')\n",
    "        curr = curr.next\n",
    "    return curr\n",
    "\n",
    "head = Node(10)\n",
    "head.next = Node(20)\n",
    "head.next.next = Node(30)\n",
    "head.next.next.next = Node(40)\n",
    "printList(head)\n",
    "head = delLast(head)\n",
    "print()\n",
    "printList(head)"
   ]
  },
  {
   "cell_type": "raw",
   "id": "0fedf3ab",
   "metadata": {},
   "source": [
    "Time complexity: θ(n)\n",
    "\n",
    "Auxiliay space: O(1)"
   ]
  },
  {
   "cell_type": "code",
   "execution_count": null,
   "id": "79d1dbd2",
   "metadata": {},
   "outputs": [],
   "source": []
  }
 ],
 "metadata": {
  "kernelspec": {
   "display_name": "Python 3 (ipykernel)",
   "language": "python",
   "name": "python3"
  },
  "language_info": {
   "codemirror_mode": {
    "name": "ipython",
    "version": 3
   },
   "file_extension": ".py",
   "mimetype": "text/x-python",
   "name": "python",
   "nbconvert_exporter": "python",
   "pygments_lexer": "ipython3",
   "version": "3.9.7"
  }
 },
 "nbformat": 4,
 "nbformat_minor": 5
}
