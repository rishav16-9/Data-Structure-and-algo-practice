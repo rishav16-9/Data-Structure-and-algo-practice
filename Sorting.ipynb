{
 "cells": [
  {
   "cell_type": "markdown",
   "id": "a30dcb95",
   "metadata": {},
   "source": [
    "# SORTING"
   ]
  },
  {
   "cell_type": "markdown",
   "id": "3deed46b",
   "metadata": {},
   "source": [
    "# Bubble Sort"
   ]
  },
  {
   "cell_type": "markdown",
   "id": "3462afa8",
   "metadata": {},
   "source": [
    "# key point"
   ]
  },
  {
   "cell_type": "raw",
   "id": "70809217",
   "metadata": {},
   "source": [
    "Non recursive\n",
    "\n",
    "Stable\n",
    "\n",
    "In place\n",
    "\n",
    "O(n²)  "
   ]
  },
  {
   "cell_type": "raw",
   "id": "88fc7876",
   "metadata": {},
   "source": [
    "Given an Integer N and a list arr. Sort the array using bubble sort algorithm.\n",
    "Example 1:\n",
    "\n",
    "Input: \n",
    "N = 5\n",
    "arr[] = {4, 1, 3, 9, 7}\n",
    "Output: \n",
    "1 3 4 7 9\n",
    "Example 2:\n",
    "\n",
    "Input:\n",
    "N = 10 \n",
    "arr[] = {10, 9, 8, 7, 6, 5, 4, 3, 2, 1}\n",
    "Output: \n",
    "1 2 3 4 5 6 7 8 9 10"
   ]
  },
  {
   "cell_type": "code",
   "execution_count": 8,
   "id": "d75598f1",
   "metadata": {},
   "outputs": [
    {
     "name": "stdout",
     "output_type": "stream",
     "text": [
      "4\n",
      "2 10 8 7\n",
      "2 7 8 10 \n"
     ]
    }
   ],
   "source": [
    "# TIme complexity is O(n^2) for worst case and fpr linear time (already sorted) it is O(n)\n",
    "def bubbleSort(l):\n",
    "#     n = len(l)\n",
    "    for i in range(0, n-1):\n",
    "        for j in range(n-i-1):\n",
    "            if(l[j] > l[j + 1]):\n",
    "                l[j], l[j+1] = l[j+1], l[j]\n",
    "    for i in l:\n",
    "        print(i, end = ' ')\n",
    "    print()\n",
    "#     return l (It will return in list)\n",
    "n = int(input())\n",
    "l = [int(n) for n in input().strip().split()]\n",
    "bubbleSort(l)"
   ]
  },
  {
   "cell_type": "raw",
   "id": "bc99082f",
   "metadata": {},
   "source": [
    "Bubble sort when already sorted code is written below and it's time copmlexity is O(n)"
   ]
  },
  {
   "cell_type": "code",
   "execution_count": 15,
   "id": "0fe3803b",
   "metadata": {},
   "outputs": [
    {
     "name": "stdout",
     "output_type": "stream",
     "text": [
      "5\n",
      "3 5 10 20 40\n"
     ]
    },
    {
     "data": {
      "text/plain": [
       "[3, 5, 10, 20, 40]"
      ]
     },
     "execution_count": 15,
     "metadata": {},
     "output_type": "execute_result"
    }
   ],
   "source": [
    "def bubbleSort(l):\n",
    "#     n = len(l)\n",
    "    for i in range(0, n-1):\n",
    "        swapped = False\n",
    "        for j in range(n-i-1):\n",
    "            if(l[j] > l[j + 1]):\n",
    "                l[j], l[j+1] = l[j+1], l[j]\n",
    "                swapped = True\n",
    "        if (swapped == False):\n",
    "            return l\n",
    "#     for i in l:\n",
    "#         print(i, end = ' ')\n",
    "#     print()\n",
    "#     return l (It will return in list)\n",
    "n = int(input())\n",
    "l = [int(n) for n in input().strip().split()]\n",
    "bubbleSort(l)"
   ]
  },
  {
   "cell_type": "markdown",
   "id": "4b743183",
   "metadata": {},
   "source": [
    "Bubble sort is a stable algo. stable algo means if there are two elements of same value then order remains same as original arrat/list"
   ]
  },
  {
   "cell_type": "markdown",
   "id": "4d80f481",
   "metadata": {},
   "source": [
    "# Selection Sort"
   ]
  },
  {
   "cell_type": "markdown",
   "id": "8a2b1e96",
   "metadata": {},
   "source": [
    "# key points"
   ]
  },
  {
   "cell_type": "markdown",
   "id": "a2645e48",
   "metadata": {},
   "source": [
    "Non recursive\n",
    "\n",
    "Unstable\n",
    "\n",
    "In place\n",
    "\n",
    "O(n²)"
   ]
  },
  {
   "cell_type": "raw",
   "id": "e6de9100",
   "metadata": {},
   "source": [
    "Selection sort is also a swappig algorithm.\n",
    "\n",
    "It's basic idea is to find minimum element and put in the 1st position and find secind minimum element and put in 2nd element and we keep doing this and we get the sorted array.\n",
    "\n",
    "It takes O(n2) as time complexity. There is no best, average, worst case for selection sort"
   ]
  },
  {
   "cell_type": "raw",
   "id": "39140f36",
   "metadata": {},
   "source": [
    "Example 1:\n",
    "\n",
    "Input:\n",
    "N = 5\n",
    "arr[] = {4, 1, 3, 9, 7}\n",
    "Output:\n",
    "1 3 4 7 9\n",
    "Explanation:\n",
    "Maintain sorted (in bold) and unsorted subarrays.\n",
    "Select 1. Array becomes 1 4 3 9 7.\n",
    "Select 3. Array becomes 1 3 4 9 7.\n",
    "Select 4. Array becomes 1 3 4 9 7.\n",
    "Select 7. Array becomes 1 3 4 7 9.\n",
    "Select 9. Array becomes 1 3 4 7 9.\n",
    "Example 2:\n",
    "\n",
    "Input:\n",
    "N = 10\n",
    "arr[] = {10, 9, 8, 7, 6, 5, 4, 3, 2, 1}\n",
    "Output:\n",
    "1 2 3 4 5 6 7 8 9 10\n",
    "\n",
    "Your Task:  \n",
    "You dont need to read input or print anything. Complete the functions select() and selectionSort() ,where select() takes arr[] and starting point of unsorted array i as input parameters and returns the selected element for each iteration in selection sort, and selectionSort() takes the array and it's size and sorts the array.\n",
    "\n",
    "\n",
    "Expected Time Complexity: O(N2)\n",
    "Expected Auxiliary Space: O(1)\n",
    "\n"
   ]
  },
  {
   "cell_type": "code",
   "execution_count": 6,
   "id": "9adadd31",
   "metadata": {},
   "outputs": [
    {
     "name": "stdout",
     "output_type": "stream",
     "text": [
      "5\n",
      "4 1 3 9 7\n",
      "1 3 4 7 9 "
     ]
    }
   ],
   "source": [
    "def selectionSort(l):\n",
    "    for i in range(n-1): # traverse the loop\n",
    "        min_ind = i #minimum index \n",
    "        for j in range(i+1, n): # This for loop is used to find the minimum index\n",
    "            if(l[j] < l[min_ind]):\n",
    "                min_ind = j\n",
    "        l[min_ind], l[i] = l[i], l[min_ind]\n",
    "#     return l\n",
    "    for i in l:\n",
    "        print(i, end = ' ')\n",
    "    \n",
    "n = int(input())\n",
    "l = [int(n) for n in input().strip().split()]\n",
    "selectionSort(l)"
   ]
  },
  {
   "cell_type": "markdown",
   "id": "59c2cd47",
   "metadata": {},
   "source": [
    "# Insertion Sort"
   ]
  },
  {
   "cell_type": "markdown",
   "id": "68e69a9e",
   "metadata": {},
   "source": [
    "# Key points"
   ]
  },
  {
   "cell_type": "raw",
   "id": "605497d3",
   "metadata": {},
   "source": [
    "Non-recursive\n",
    "\n",
    "Stable\n",
    "\n",
    "In place\n",
    "\n",
    "O(n²)"
   ]
  },
  {
   "cell_type": "raw",
   "id": "372323a7",
   "metadata": {},
   "source": [
    "The task is to complete the insert() function which is used to implement Insertion Sort.\n",
    "\n",
    "\n",
    "Example 1:\n",
    "\n",
    "Input:\n",
    "N = 5\n",
    "arr[] = { 4, 1, 3, 9, 7}\n",
    "Output:\n",
    "1 3 4 7 9\n",
    "Example 2:\n",
    "\n",
    "Input:\n",
    "N = 10\n",
    "arr[] = {10, 9, 8, 7, 6, 5, 4, 3, 2, 1}\n",
    "Output:\n",
    "1 2 3 4 5 6 7 8 9 10\n",
    "\n",
    "Your Task: \n",
    "You don't have to read input or print anything. Your task is to complete the function insert() and insertionSort() where insert() takes the array, it's size and an index i and insertionSort() uses insert function to sort the array in ascending order using insertion sort algorithm. \n",
    "\n",
    "Expected Time Complexity: O(N*N).\n",
    "Expected Auxiliary Space: O(1)."
   ]
  },
  {
   "cell_type": "raw",
   "id": "e542a6d9",
   "metadata": {},
   "source": [
    "It's basic idea is to start from second element and store that element in variable and travesere through loop till len - 1 and compare with previous element till j >= 0 and if x < l[j] then l[j] element will be moved to l[j+1] and move in reverse till we find smallest element than x element. once found add x value to l[j+1]"
   ]
  },
  {
   "cell_type": "code",
   "execution_count": 11,
   "id": "40337090",
   "metadata": {},
   "outputs": [
    {
     "name": "stdout",
     "output_type": "stream",
     "text": [
      "5\n",
      "4 1 3 9 7\n"
     ]
    },
    {
     "data": {
      "text/plain": [
       "[1, 3, 4, 7, 9]"
      ]
     },
     "execution_count": 11,
     "metadata": {},
     "output_type": "execute_result"
    }
   ],
   "source": [
    "def insertionSort(l):\n",
    "    for i in range(1, n):\n",
    "        x = l[i]\n",
    "        j = i - 1\n",
    "        while j >= 0 and x < l[j]:\n",
    "            l[j+1] = l[j] \n",
    "            j = j - 1\n",
    "        l[j+1] = x\n",
    "    return l\n",
    "    \n",
    "n = int(input())\n",
    "l = [int(n) for n in input().strip().split()]\n",
    "insertionSort(l)"
   ]
  },
  {
   "cell_type": "markdown",
   "id": "e77c1e2c",
   "metadata": {},
   "source": [
    "#  Merge Sort"
   ]
  },
  {
   "cell_type": "raw",
   "id": "61ef3719",
   "metadata": {},
   "source": [
    "Merge sort implementation on phases\n",
    "\n",
    "1) Merge two sorted list\n",
    "2) Merge sub array"
   ]
  },
  {
   "cell_type": "code",
   "execution_count": 14,
   "id": "b980761c",
   "metadata": {},
   "outputs": [
    {
     "data": {
      "text/plain": [
       "[5, 6, 6, 10, 15, 20, 30]"
      ]
     },
     "execution_count": 14,
     "metadata": {},
     "output_type": "execute_result"
    }
   ],
   "source": [
    "# Merge two sorted list\n",
    "\n",
    "# Naive approach\n",
    "\n",
    "# Time complexity is (m+n) * log (m+n)\n",
    "\n",
    "def mergeList(l1, l2):\n",
    "    res = a + b\n",
    "    res.sort()\n",
    "    return res\n",
    "a = [10, 15, 20]\n",
    "b = [5, 6, 6, 30]\n",
    "mergeList(a, b)"
   ]
  },
  {
   "cell_type": "code",
   "execution_count": 15,
   "id": "9577f41f",
   "metadata": {},
   "outputs": [
    {
     "data": {
      "text/plain": [
       "[5, 6, 6, 10, 15, 20, 30]"
      ]
     },
     "execution_count": 15,
     "metadata": {},
     "output_type": "execute_result"
    }
   ],
   "source": [
    "# Efficient Solution\n",
    "\n",
    "# Time Complexity is O(m+n)\n",
    "\n",
    "def mergeList(a, b):\n",
    "    res = []\n",
    "    m = len(a)\n",
    "    n = len(b)\n",
    "    i = 0     # Traverse through list a\n",
    "    j = 0     # Traversre through list b\n",
    "    while(i < m and j < n):\n",
    "        if(a[i] < b[j]):\n",
    "            res.append(a[i])\n",
    "            i += 1\n",
    "        else:\n",
    "            res.append(b[j])\n",
    "            j += 1\n",
    "    \n",
    "    #if list exhausts\n",
    "    while (i < m):\n",
    "        res.append(a[i])\n",
    "        i += 1  \n",
    "    while(j < n):\n",
    "        res.append(b[j])\n",
    "        j += 1\n",
    "    \n",
    "    return res\n",
    "\n",
    "a = [10, 15, 20]\n",
    "b = [5, 6, 6, 30]\n",
    "mergeList(a, b)"
   ]
  },
  {
   "cell_type": "raw",
   "id": "c3fa93b8",
   "metadata": {},
   "source": [
    "# Merge subarrays\n",
    "i/p = [10, 15, 20, 11, 13]\n",
    "low = 0\n",
    "high = 4\n",
    "mid = 2\n",
    "left = low to mid\n",
    "right = mid + 1 to high "
   ]
  },
  {
   "cell_type": "code",
   "execution_count": null,
   "id": "2912f7bf",
   "metadata": {},
   "outputs": [],
   "source": [
    "\n",
    "\n",
    "def mergeSubArray(a, low, mid, high):\n",
    "    left = a[low: mid +1]\n",
    "    right = a[mid+1: high+1]\n",
    "    i = 0\n",
    "    j = 0\n",
    "    k = low\n",
    "    \n",
    "    while(i < len(left) and j < len(right)):\n",
    "        if(left[i] <= right[j]):\n",
    "            a[k] = left[i]\n",
    "            k += 1\n",
    "            i += 1\n",
    "        else:\n",
    "            a[k] = right[j]\n",
    "            k += 1\n",
    "            j += 1\n",
    "            \n",
    "    while(i < len(left)):\n",
    "        a[k] = left[i]\n",
    "        k += 1\n",
    "        i += 1\n",
    "    \n",
    "    while(j < len(right)):\n",
    "        a[k]= right[j]\n",
    "        k += 1\n",
    "        j += 1\n",
    "        \n",
    "    return a\n",
    "\n",
    "a = [10, 15, 20, 40, 8, 11, 55]\n",
    "low = 0\n",
    "high = len(a) - 1\n",
    "mid = (low+high) // 2\n",
    "mergeSubArray(a, low, mid, high)\n",
    "            "
   ]
  },
  {
   "cell_type": "markdown",
   "id": "cd61dba1",
   "metadata": {},
   "source": [
    "# Merge sort (Main)"
   ]
  },
  {
   "cell_type": "markdown",
   "id": "4aee6dba",
   "metadata": {},
   "source": [
    "Key Points"
   ]
  },
  {
   "cell_type": "raw",
   "id": "5ebd41c6",
   "metadata": {},
   "source": [
    "1) Recursive\n",
    "\n",
    "2) Stable\n",
    "\n",
    "3) Needs extra space\n",
    "\n",
    "4) O(nlogn)\n",
    "\n",
    "This is a divide and conquer algorithm. In this algorithm, we split a list in half and keep splitting the list by 2 until it only has a single element. Then we merge the sorted list. We keep doing this until we get a sorted list with all the elements of the unsorted input list."
   ]
  },
  {
   "cell_type": "code",
   "execution_count": 4,
   "id": "de732878",
   "metadata": {},
   "outputs": [
    {
     "name": "stdout",
     "output_type": "stream",
     "text": [
      "1\n",
      "10 15 20 11 13\n"
     ]
    },
    {
     "data": {
      "text/plain": [
       "[10, 11, 13, 15, 20]"
      ]
     },
     "execution_count": 4,
     "metadata": {},
     "output_type": "execute_result"
    }
   ],
   "source": [
    "def mergeSort(a, l, r):\n",
    "    if(r > l):\n",
    "        m = (l + r) // 2\n",
    "        mergeSort(a, l, m) # this is to sort the value from range 0 to m\n",
    "        mergeSort(a, m +1, r) # this is to sort the value from m + 1 to r\n",
    "        mergeSubArray(a, l, m, r) # use to merge and sort sub array\n",
    "    return a\n",
    "\n",
    "def mergeSubArray(a, low, mid, high):\n",
    "    left = a[low: mid + 1]\n",
    "    right = a[mid + 1: high + 1]\n",
    "    i, j = 0, 0\n",
    "    k = low\n",
    "    \n",
    "    while(i < len(left) and j < len(right)):\n",
    "        if(left[i] <= right[j]):\n",
    "            a[k] = left[i]\n",
    "            i += 1\n",
    "            k += 1\n",
    "        else:\n",
    "            a[k] = right[j]\n",
    "            j += 1\n",
    "            k += 1\n",
    "    while(i < len(left)):\n",
    "        a[k] = left[i]\n",
    "        i += 1\n",
    "        k += 1\n",
    "    \n",
    "    while(j < len(right)):\n",
    "        a[k] = right[j]\n",
    "        j += 1\n",
    "        k += 1\n",
    "\n",
    "# a = [10, 15, 20, 40, 8, 11, 55]\n",
    "n = int(input())\n",
    "a = [int(n) for n in input().strip().split()]\n",
    "l = 0\n",
    "r = len(a) - 1\n",
    "mergeSort(a, l, r)"
   ]
  },
  {
   "cell_type": "markdown",
   "id": "57c89a2c",
   "metadata": {},
   "source": [
    "# Quick Sort"
   ]
  },
  {
   "cell_type": "markdown",
   "id": "f853abeb",
   "metadata": {},
   "source": [
    "1) Divide and Conquer algo\n",
    "\n",
    "2) worst case is O(n^2) and average is O(nlogn)\n",
    "\n",
    "3) despite of worst case O(n^2) it is considered fastor\n",
    "\n",
    "    1) In place\n",
    "    2) Cache friendly\n",
    "    3) Average case O(nlogn)\n",
    "    4) Tail recursive\n",
    "    \n",
    "4) partiotion is a ket function (Naive, Lomuto, Hoarse)\n",
    "\n",
    "    1) Naive is stable but not efficient and reqire 3 traversal\n",
    "    2) Lomtuto is efficient and require 1 traversal\n",
    "    3) Hoarse is efficient but not stable\n",
    "    \n",
    "Note: If we need stablity use merge sort"
   ]
  },
  {
   "cell_type": "markdown",
   "id": "a91d9b8a",
   "metadata": {},
   "source": [
    "# Partion a given array\n",
    "\n",
    "I/P\n",
    "\n",
    "l = [3, 8, 6, 12, 10, 7]\n",
    "\n",
    "p = 5 # It is index of last element\n",
    "\n",
    "O/P\n",
    "\n",
    "l = [3, 6, 7, 8, 12, 10] OR [6, 3, 7, 12, 8, 10]"
   ]
  },
  {
   "cell_type": "markdown",
   "id": "5a8edc6b",
   "metadata": {},
   "source": [
    "# Naive approach for partiotion "
   ]
  },
  {
   "cell_type": "code",
   "execution_count": 4,
   "id": "fb6becfc",
   "metadata": {},
   "outputs": [
    {
     "name": "stdout",
     "output_type": "stream",
     "text": [
      "1\n",
      "5 13 6 9 12 8 11\n",
      "5\n"
     ]
    },
    {
     "data": {
      "text/plain": [
       "[5, 6, 8, 13, 9, 12, 11]"
      ]
     },
     "execution_count": 4,
     "metadata": {},
     "output_type": "execute_result"
    }
   ],
   "source": [
    "def partition(arr, p):\n",
    "    n = len(arr)\n",
    "    arr[p], arr[n-1]  = arr[n-1], arr[p]\n",
    "    temp = []\n",
    "    for x in arr:\n",
    "        if x <= arr[n-1]:\n",
    "            temp.append(x)\n",
    "    for x in arr:\n",
    "        if x > arr[n-1]:\n",
    "            temp.append(x)\n",
    "    \n",
    "    for i in range(len(arr)):\n",
    "        arr[i] = temp[i]\n",
    "        \n",
    "    return arr\n",
    "\n",
    "n = int(input())\n",
    "arr = [int(n) for n in input().strip().split()]\n",
    "p = int(input())\n",
    "partition(arr, p)"
   ]
  },
  {
   "cell_type": "markdown",
   "id": "29333dd0",
   "metadata": {},
   "source": [
    "# Lomuto partition "
   ]
  },
  {
   "cell_type": "raw",
   "id": "4149e814",
   "metadata": {},
   "source": [
    "Working\n",
    "\n",
    "First, choose pivot element can choose any index but preferably choosen last index or element.\n",
    "\n",
    "So the value less than pivot must be on the left side and greater or equal must be on right side\n",
    "\n",
    "Second, intialize i to l-1\n",
    "\n",
    "Then loop from l to h\n",
    "        THEN check if element is less than pivot element\n",
    "        increment value of i\n",
    "        swap the value of i and j\n",
    "  \n",
    "Third, when loop end we know that h can be inserted at the i+1 index and swapped with that position\n",
    "\n",
    "Then return the index\n"
   ]
  },
  {
   "cell_type": "code",
   "execution_count": 5,
   "id": "eed5fea9",
   "metadata": {},
   "outputs": [
    {
     "name": "stdout",
     "output_type": "stream",
     "text": [
      "1\n",
      "10 80 30 90 40 50 70\n"
     ]
    },
    {
     "data": {
      "text/plain": [
       "4"
      ]
     },
     "execution_count": 5,
     "metadata": {},
     "output_type": "execute_result"
    }
   ],
   "source": [
    "def lomutoPartition(arr, l, h):\n",
    "    pivot = arr[h]\n",
    "    i = l-1\n",
    "    for j in range(l, h):\n",
    "        if(arr[j] < pivot):\n",
    "            i += 1\n",
    "            arr[i], arr[j] = arr[j], arr[i]\n",
    "    arr[i+1], arr[h] = arr[h], arr[i+1]\n",
    "    return i + 1\n",
    "\n",
    "n = int(input())\n",
    "arr = [int(n) for n in input().strip().split()]\n",
    "l = 0\n",
    "h = len(arr) -1\n",
    "lomutoPartition(arr, l, h)"
   ]
  },
  {
   "cell_type": "code",
   "execution_count": null,
   "id": "bbcdf2a6",
   "metadata": {},
   "outputs": [],
   "source": []
  }
 ],
 "metadata": {
  "kernelspec": {
   "display_name": "Python 3 (ipykernel)",
   "language": "python",
   "name": "python3"
  },
  "language_info": {
   "codemirror_mode": {
    "name": "ipython",
    "version": 3
   },
   "file_extension": ".py",
   "mimetype": "text/x-python",
   "name": "python",
   "nbconvert_exporter": "python",
   "pygments_lexer": "ipython3",
   "version": "3.9.7"
  }
 },
 "nbformat": 4,
 "nbformat_minor": 5
}
