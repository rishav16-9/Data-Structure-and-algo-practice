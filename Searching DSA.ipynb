{
 "cells": [
  {
   "cell_type": "markdown",
   "id": "f668ff40",
   "metadata": {},
   "source": [
    "# Searching"
   ]
  },
  {
   "cell_type": "markdown",
   "id": "e1731794",
   "metadata": {},
   "source": [
    "# Linear Seach"
   ]
  },
  {
   "cell_type": "raw",
   "id": "e6568ccf",
   "metadata": {},
   "source": [
    "Example 1:\n",
    "\n",
    "Input:\n",
    "n = 4\n",
    "arr[] = {1,2,3,4}\n",
    "x = 3\n",
    "Output: 2\n",
    "Explanation: There is one test case \n",
    "with array as {1, 2, 3 4} and element \n",
    "to be searched as 3.  Since 3 is \n",
    "present at index 2, output is 2.\n",
    "Example 2:\n",
    "\n",
    "Input:\n",
    "n = 5\n",
    "arr[] = {1,2,3,4,5}\n",
    "x = 5\n",
    "Output: 4\n",
    "Explanation: For array elements \n",
    "{1,2,3,4,5} element to be searched \n",
    "is 5 and it is at index 4. So, the \n",
    "output is 4."
   ]
  },
  {
   "cell_type": "code",
   "execution_count": 2,
   "id": "eaec9034",
   "metadata": {},
   "outputs": [
    {
     "name": "stdout",
     "output_type": "stream",
     "text": [
      "5\n",
      "20\n",
      "10 20 30 40 50\n"
     ]
    },
    {
     "data": {
      "text/plain": [
       "1"
      ]
     },
     "execution_count": 2,
     "metadata": {},
     "output_type": "execute_result"
    }
   ],
   "source": [
    "def LinerarSearch(arr, n, x):\n",
    "    for i in range(n):\n",
    "        if(arr[i] == x):\n",
    "            return i\n",
    "    return -1\n",
    "\n",
    "n= int(input())\n",
    "x = int(input())\n",
    "arr = [int(x) for x in input().strip().split()]\n",
    "LinerarSearch(arr, n, x)"
   ]
  },
  {
   "cell_type": "markdown",
   "id": "30dc37dc",
   "metadata": {},
   "source": [
    "# Binary search"
   ]
  },
  {
   "cell_type": "raw",
   "id": "493bbc25",
   "metadata": {},
   "source": [
    "Example 1:\n",
    "\n",
    "Input:\n",
    "N = 5\n",
    "arr[] = {1 2 3 4 5} \n",
    "K = 4\n",
    "Output: 3\n",
    "Explanation: 4 appears at index 3.\n",
    "\n",
    "Example 2:\n",
    "\n",
    "Input:\n",
    "N = 5\n",
    "arr[] = {11 22 33 44 55} \n",
    "K = 445\n",
    "Output: -1\n",
    "Explanation: 445 is not present."
   ]
  },
  {
   "cell_type": "code",
   "execution_count": 7,
   "id": "80a0d9d5",
   "metadata": {},
   "outputs": [
    {
     "name": "stdout",
     "output_type": "stream",
     "text": [
      "5\n",
      "40\n",
      "10 20 30 40 50\n"
     ]
    },
    {
     "data": {
      "text/plain": [
       "3"
      ]
     },
     "execution_count": 7,
     "metadata": {},
     "output_type": "execute_result"
    }
   ],
   "source": [
    "def binarySearch(arr, n, k):\n",
    "    low = 0\n",
    "    high = n - 1\n",
    "    while(low <= high):\n",
    "        mid = (low + high) // 2\n",
    "        if(arr[mid] == k):\n",
    "            return mid\n",
    "        elif(arr[mid] > k):\n",
    "            high = mid - 1\n",
    "        else:\n",
    "            low = mid + 1\n",
    "    return -1\n",
    "n= int(input())\n",
    "k = int(input())\n",
    "arr = A=[int(x) for x in input().strip().split()]\n",
    "binarySearch(arr, n, k)"
   ]
  },
  {
   "cell_type": "markdown",
   "id": "9f6a5167",
   "metadata": {},
   "source": [
    "# Count 1's in binary array "
   ]
  },
  {
   "cell_type": "raw",
   "id": "f493411a",
   "metadata": {},
   "source": [
    "Given a binary sorted non-increasing array of 1s and 0s. You need to print the count of 1s in the binary array.\n",
    "\n",
    "Example 1:\n",
    "\n",
    "Input:\n",
    "N = 8\n",
    "arr[] = {1,1,1,1,1,0,0,0}\n",
    "Output: 5\n",
    "Explanation: Number of 1's in given \n",
    "binary array : 1 1 1 1 1 0 0 0 is 5.\n",
    "Example 2:\n",
    "\n",
    "Input:\n",
    "N = 8\n",
    "arr[] = {1,1,0,0,0,0,0,0}\n",
    "Output: 2\n",
    "Explanation: Number of 1's in given \n",
    "binary array : 1 1 0 0 0 0 0 0 is 2."
   ]
  },
  {
   "cell_type": "code",
   "execution_count": 12,
   "id": "910418e6",
   "metadata": {},
   "outputs": [
    {
     "name": "stdout",
     "output_type": "stream",
     "text": [
      "8\n",
      "1 1 1 1 1 0 0 0\n"
     ]
    },
    {
     "data": {
      "text/plain": [
       "5"
      ]
     },
     "execution_count": 12,
     "metadata": {},
     "output_type": "execute_result"
    }
   ],
   "source": [
    "def countOne(arr, n):\n",
    "    count = 0\n",
    "    for i in range(n):\n",
    "        if(arr[i] == 1):\n",
    "            count += 1\n",
    "    return count\n",
    "n= int(input())\n",
    "arr = [int(x) for x in input().strip().split()]\n",
    "countOne(arr, n)"
   ]
  },
  {
   "cell_type": "markdown",
   "id": "fa43ffa8",
   "metadata": {},
   "source": [
    "# Count 0's in binary array"
   ]
  },
  {
   "cell_type": "raw",
   "id": "961f8e23",
   "metadata": {},
   "source": [
    "Given an array of size N consisting of only 0's and 1's. The array is sorted in such a manner that all the 1's are placed first and then they are followed by all the 0's. Find the count of all the 0's.\n",
    "\n",
    "Example 1:\n",
    "\n",
    "Input:\n",
    "N = 12\n",
    "Arr[] = {1, 1, 1, 1, 1, 1, 1, 1, 1, 0, 0, 0}\n",
    "Output: 3\n",
    "Explanation: There are 3 0's in the given array.\n",
    "\n",
    "Example 2:\n",
    "\n",
    "Input:\n",
    "N = 5\n",
    "Arr[] = {0, 0, 0, 0, 0}\n",
    "Output: 5\n",
    "Explanation: There are 5 0's in the array."
   ]
  },
  {
   "cell_type": "code",
   "execution_count": 15,
   "id": "26c52682",
   "metadata": {},
   "outputs": [
    {
     "name": "stdout",
     "output_type": "stream",
     "text": [
      "12\n",
      "1 1 1 1 1 1 1 1 1 0 0 0\n"
     ]
    },
    {
     "data": {
      "text/plain": [
       "3"
      ]
     },
     "execution_count": 15,
     "metadata": {},
     "output_type": "execute_result"
    }
   ],
   "source": [
    "def countOne(arr, n):\n",
    "    count = 0\n",
    "    for i in range(n):\n",
    "        if(arr[i] == 0):\n",
    "            count += 1\n",
    "    return count\n",
    "n= int(input())\n",
    "arr = [int(x) for x in input().strip().split()]\n",
    "countOne(arr, n)"
   ]
  },
  {
   "cell_type": "markdown",
   "id": "c85d3ec5",
   "metadata": {},
   "source": [
    "# First and last occurrences of x"
   ]
  },
  {
   "cell_type": "raw",
   "id": "1b093adf",
   "metadata": {},
   "source": [
    "Given a sorted array arr containing n elements with possibly duplicate elements, the task is to find indexes of first and last occurrences of an element x in the given array.\n",
    "\n",
    "Example 1:\n",
    "\n",
    "Input:\n",
    "n=9, x=5\n",
    "arr[] = { 1, 3, 5, 5, 5, 5, 67, 123, 125 }\n",
    "Output:  2 5\n",
    "Explanation: First occurrence of 5 is at index 2 and last\n",
    "             occurrence of 5 is at index 5. \n",
    " \n",
    "\n",
    "Example 2:\n",
    "\n",
    "Input:\n",
    "n=9, x=7\n",
    "arr[] = { 1, 3, 5, 5, 5, 5, 7, 123, 125 }\n",
    "Output:  6 6"
   ]
  },
  {
   "cell_type": "markdown",
   "id": "483419f4",
   "metadata": {},
   "source": [
    "# First Occurence"
   ]
  },
  {
   "cell_type": "markdown",
   "id": "03e7f01d",
   "metadata": {},
   "source": [
    "Naive Solution"
   ]
  },
  {
   "cell_type": "code",
   "execution_count": 2,
   "id": "8353223c",
   "metadata": {},
   "outputs": [
    {
     "name": "stdout",
     "output_type": "stream",
     "text": [
      "7\n",
      "1 10 10 10 7 7 40\n"
     ]
    },
    {
     "data": {
      "text/plain": [
       "4"
      ]
     },
     "execution_count": 2,
     "metadata": {},
     "output_type": "execute_result"
    }
   ],
   "source": [
    "def firstOccurence(l, x):\n",
    "    for i in range(len(l)):\n",
    "        if(l[i] == x):\n",
    "            return i\n",
    "    return -1\n",
    "x = int(input())\n",
    "l = [int(k) for k in input().strip().split()]\n",
    "firstOccurence(l, x)\n",
    "\n",
    "# Time complexity O(n)"
   ]
  },
  {
   "cell_type": "markdown",
   "id": "07edb4f7",
   "metadata": {},
   "source": [
    "Efficient Solution using binary search O(log n)"
   ]
  },
  {
   "cell_type": "code",
   "execution_count": 5,
   "id": "6b46f40d",
   "metadata": {},
   "outputs": [
    {
     "name": "stdout",
     "output_type": "stream",
     "text": [
      "7\n",
      "1 2 3 4 5 7 7 7 7 7 7 \n"
     ]
    },
    {
     "data": {
      "text/plain": [
       "5"
      ]
     },
     "execution_count": 5,
     "metadata": {},
     "output_type": "execute_result"
    }
   ],
   "source": [
    "def firstOccurence(l, x):\n",
    "    low = 0\n",
    "    high = len(l) - 1\n",
    "    while(low <= high):\n",
    "        mid = (low + high) // 2\n",
    "        if(l[mid] > x):\n",
    "            high = mid - 1\n",
    "        elif(l[mid] < x):\n",
    "            low = mid + 1\n",
    "        else:\n",
    "            if(mid == 0 or l[mid - 1] != l[mid]):\n",
    "                return mid\n",
    "            else:\n",
    "                high = mid - 1\n",
    "    return -1\n",
    "x = int(input())\n",
    "l = [int(k) for k in input().strip().split()]\n",
    "firstOccurence(l, x)"
   ]
  },
  {
   "cell_type": "markdown",
   "id": "25494cc7",
   "metadata": {},
   "source": [
    "# Last Occurence"
   ]
  },
  {
   "cell_type": "markdown",
   "id": "b3448806",
   "metadata": {},
   "source": [
    "Naive Solution"
   ]
  },
  {
   "cell_type": "code",
   "execution_count": 6,
   "id": "d8cdedf4",
   "metadata": {},
   "outputs": [
    {
     "name": "stdout",
     "output_type": "stream",
     "text": [
      "20\n",
      "10 15 20 20 40\n"
     ]
    },
    {
     "data": {
      "text/plain": [
       "3"
      ]
     },
     "execution_count": 6,
     "metadata": {},
     "output_type": "execute_result"
    }
   ],
   "source": [
    "def lastOccur(l, x):\n",
    "    for i in reversed(range(len(l))):\n",
    "        if(l[i] == x):\n",
    "            return i\n",
    "    return -1\n",
    "x = int(input())\n",
    "l = [int(k) for k in input().strip().split()]\n",
    "lastOccur(l, x)"
   ]
  },
  {
   "cell_type": "markdown",
   "id": "447775ba",
   "metadata": {},
   "source": [
    "Efficient Solution using binary search O(log n)"
   ]
  },
  {
   "cell_type": "code",
   "execution_count": 2,
   "id": "6ce789c6",
   "metadata": {},
   "outputs": [
    {
     "name": "stdout",
     "output_type": "stream",
     "text": [
      "10\n",
      "5 8 8 10 10 \n"
     ]
    },
    {
     "data": {
      "text/plain": [
       "4"
      ]
     },
     "execution_count": 2,
     "metadata": {},
     "output_type": "execute_result"
    }
   ],
   "source": [
    "def lastOccurence(l, x):\n",
    "    low = 0\n",
    "    high = len(l) - 1\n",
    "    while(low <= high):\n",
    "        mid = (low + high) // 2\n",
    "        if(l[mid] > x):\n",
    "            high = mid - 1\n",
    "        elif(l[mid] < x):\n",
    "            low = mid + 1\n",
    "        else:\n",
    "            if(mid == len(l) - 1 or l[mid + 1] != l[mid]):\n",
    "                return mid\n",
    "            else:\n",
    "                low = mid + 1\n",
    "    return -1\n",
    "x = int(input())\n",
    "l = [int(k) for k in input().strip().split()]\n",
    "lastOccurence(l, x)"
   ]
  },
  {
   "cell_type": "markdown",
   "id": "bae3f862",
   "metadata": {},
   "source": [
    "# Count occurence in sorted array"
   ]
  },
  {
   "cell_type": "raw",
   "id": "2d131d1f",
   "metadata": {},
   "source": [
    "Given a sorted array Arr of size N and a number X, you need to find the number of occurrences of X in Arr.\n",
    "\n",
    "Example 1:\n",
    "\n",
    "Input:\n",
    "N = 7, X = 2\n",
    "Arr[] = {1, 1, 2, 2, 2, 2, 3}\n",
    "Output: 4\n",
    "Explanation: 2 occurs 4 times in the\n",
    "given array.\n",
    "Example 2:\n",
    "\n",
    "Input:\n",
    "N = 7, X = 4\n",
    "Arr[] = {1, 1, 2, 2, 2, 2, 3}\n",
    "Output: 0\n",
    "Explanation: 4 is not present in the\n",
    "given array."
   ]
  },
  {
   "cell_type": "code",
   "execution_count": 15,
   "id": "dde07a2c",
   "metadata": {},
   "outputs": [
    {
     "name": "stdout",
     "output_type": "stream",
     "text": [
      "7\n",
      "2\n",
      "1 1 4 4 4 4 3\n"
     ]
    },
    {
     "data": {
      "text/plain": [
       "0"
      ]
     },
     "execution_count": 15,
     "metadata": {},
     "output_type": "execute_result"
    }
   ],
   "source": [
    "def countOccur(l, x):\n",
    "    count = 0\n",
    "    for i in l:\n",
    "        if(l[i] == x):\n",
    "            count += 1\n",
    "            i += 1\n",
    "    if (count > 0):\n",
    "        return count - 1\n",
    "    else:\n",
    "        return 0\n",
    "n = int(input())\n",
    "x = int(input())\n",
    "l = [int(n) for n in input().strip().split()]\n",
    "countOccur(l, x)"
   ]
  },
  {
   "cell_type": "code",
   "execution_count": null,
   "id": "68f17323",
   "metadata": {},
   "outputs": [],
   "source": []
  }
 ],
 "metadata": {
  "kernelspec": {
   "display_name": "Python 3 (ipykernel)",
   "language": "python",
   "name": "python3"
  },
  "language_info": {
   "codemirror_mode": {
    "name": "ipython",
    "version": 3
   },
   "file_extension": ".py",
   "mimetype": "text/x-python",
   "name": "python",
   "nbconvert_exporter": "python",
   "pygments_lexer": "ipython3",
   "version": "3.9.7"
  }
 },
 "nbformat": 4,
 "nbformat_minor": 5
}
